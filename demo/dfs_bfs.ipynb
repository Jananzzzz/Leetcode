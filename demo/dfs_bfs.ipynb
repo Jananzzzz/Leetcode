{
 "cells": [
  {
   "cell_type": "markdown",
   "metadata": {},
   "source": [
    "<img src=\"../assets/node_graph.webp\" width=40%>"
   ]
  },
  {
   "cell_type": "code",
   "execution_count": 3,
   "metadata": {},
   "outputs": [],
   "source": [
    "graph = {\n",
    "    'A':['B','C'],\n",
    "    'B':['A','C','D'],\n",
    "    'C':['A','B','D','E'],\n",
    "    'D':['B','C','E','F'],\n",
    "    'E':['D','C'],\n",
    "    'F':['D']\n",
    "}"
   ]
  },
  {
   "cell_type": "code",
   "execution_count": 4,
   "metadata": {},
   "outputs": [],
   "source": [
    "def DFS(graph, s):\n",
    "    \"\"\"\n",
    "    :param dict graph: graph represented in dict form\n",
    "    :param str s: start vertex\n",
    "    \"\"\"\n",
    "    stack = []\n",
    "    output_list = []\n",
    "    stack.append(s)\n",
    "    seen = set()\n",
    "    seen.add(s)\n",
    "    while(len(stack) > 0):\n",
    "        vertex = stack.pop()\n",
    "        nodes = graph[vertex]\n",
    "        for node in nodes:\n",
    "            if node not in seen:\n",
    "                stack.append(node)\n",
    "                seen.add(node)\n",
    "        output_list.append(vertex)\n",
    "    output = \"\"\n",
    "    for node in output_list:\n",
    "        output = output + node + \"->\"\n",
    "    output = output[:-2]\n",
    "    print(output)"
   ]
  },
  {
   "cell_type": "code",
   "execution_count": 5,
   "metadata": {},
   "outputs": [],
   "source": [
    "def BFS(graph, s):\n",
    "    \"\"\"\n",
    "    :param dict graph: graph represented in dict form\n",
    "    :param str s: start vertex\n",
    "    \"\"\"\n",
    "    queue = []\n",
    "    output_list = []\n",
    "    queue.append(s)\n",
    "    seen = set()\n",
    "    seen.add(s)\n",
    "    while len(queue) > 0:\n",
    "        vertex = queue[0]\n",
    "        for node in graph[vertex]:\n",
    "            if node not in seen:\n",
    "                queue.append(node)\n",
    "                seen.add(node)\n",
    "        output_list.append(vertex)\n",
    "        queue = queue[1:]\n",
    "    output = \"\"\n",
    "    for node in output_list:\n",
    "        output = output + node + \"->\"\n",
    "    output = output[:-2]\n",
    "    print(output)\n",
    "\n",
    "    "
   ]
  },
  {
   "cell_type": "code",
   "execution_count": 6,
   "metadata": {},
   "outputs": [
    {
     "name": "stdout",
     "output_type": "stream",
     "text": [
      "A->C->E->D->F->B\n",
      "A->B->C->D->E->F\n"
     ]
    }
   ],
   "source": [
    "DFS(graph, list(graph.keys())[0])\n",
    "BFS(graph, list(graph.keys())[0])"
   ]
  }
 ],
 "metadata": {
  "kernelspec": {
   "display_name": "base",
   "language": "python",
   "name": "python3"
  },
  "language_info": {
   "codemirror_mode": {
    "name": "ipython",
    "version": 3
   },
   "file_extension": ".py",
   "mimetype": "text/x-python",
   "name": "python",
   "nbconvert_exporter": "python",
   "pygments_lexer": "ipython3",
   "version": "3.11.4"
  },
  "orig_nbformat": 4
 },
 "nbformat": 4,
 "nbformat_minor": 2
}
