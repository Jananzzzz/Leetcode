{
 "cells": [
  {
   "cell_type": "markdown",
   "metadata": {},
   "source": [
    "https://leetcode.com/problems/binary-watch/\n",
    "A binary watch has 4 LEDs on the top to represent the hours (0-11), and 6 LEDs on the bottom to represent the minutes (0-59). Each LED represents a zero or one, with the least significant bit on the right.\n",
    "\n",
    "For example, the below binary watch reads \"4:51\".\n",
    "\n",
    "<img src=\"../assets/binarywatch.jpg\" width=30%>\n",
    "\n",
    "Given an integer turnedOn which represents the number of LEDs that are currently on (ignoring the PM), return all possible times the watch could represent. You may return the answer in any order.\n",
    "\n",
    "The hour must not contain a leading zero.\n",
    "\n",
    "For example, \"01:00\" is not valid. It should be \"1:00\".\n",
    "The minute must consist of two digits and may contain a leading zero.\n",
    "\n",
    "For example, \"10:2\" is not valid. It should be \"10:02\".\n",
    " \n",
    "\n",
    "Example 1:\n",
    "\n",
    "Input: turnedOn = 1\n",
    "Output: [\"0:01\",\"0:02\",\"0:04\",\"0:08\",\"0:16\",\"0:32\",\"1:00\",\"2:00\",\"4:00\",\"8:00\"]\n",
    "Example 2:\n",
    "\n",
    "Input: turnedOn = 9\n",
    "Output: []"
   ]
  },
  {
   "cell_type": "code",
   "execution_count": 2,
   "metadata": {},
   "outputs": [
    {
     "name": "stdout",
     "output_type": "stream",
     "text": [
      "['0:01', '0:02', '0:04', '0:08', '0:16', '0:32', '1:00', '2:00', '4:00', '8:00']\n",
      "[]\n"
     ]
    }
   ],
   "source": [
    "class Solution:\n",
    "    def readBinaryWatch(self, turnedOn: int) -> list[str]:\n",
    "        # thought: how to distribute the turnedOn lights\n",
    "        # reverse thought: find all the distributions with the required turnOn lights\n",
    "        output = []\n",
    "        for h in range(12):\n",
    "            for m in range(60):\n",
    "                if bin(h).count('1') + bin(m).count('1') == turnedOn:\n",
    "                    output.append(f\"{h}:{m:02d}\")\n",
    "        return output\n",
    "\n",
    "print(Solution.readBinaryWatch(Solution(), 1))\n",
    "print(Solution.readBinaryWatch(Solution(), 9))"
   ]
  }
 ],
 "metadata": {
  "kernelspec": {
   "display_name": "base",
   "language": "python",
   "name": "python3"
  },
  "language_info": {
   "codemirror_mode": {
    "name": "ipython",
    "version": 3
   },
   "file_extension": ".py",
   "mimetype": "text/x-python",
   "name": "python",
   "nbconvert_exporter": "python",
   "pygments_lexer": "ipython3",
   "version": "3.11.4"
  },
  "orig_nbformat": 4
 },
 "nbformat": 4,
 "nbformat_minor": 2
}
