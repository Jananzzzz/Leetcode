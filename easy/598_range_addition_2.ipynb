{
 "cells": [
  {
   "cell_type": "markdown",
   "metadata": {},
   "source": [
    "https://leetcode.com/problems/range-addition-ii/\n",
    "\n",
    "You are given an m x n matrix M initialized with all 0's and an array of operations ops, where ops[i] = [ai, bi] means M[x][y] should be incremented by one for all 0 <= x < ai and 0 <= y < bi.\n",
    "\n",
    "Count and return the number of maximum integers in the matrix after performing all the operations.\n",
    "\n",
    "<img src=\"../assets/ex1.jpg\" width=70%>\n",
    "\n",
    "Input: m = 3, n = 3, ops = [[2,2],[3,3]]\n",
    "Output: 4\n",
    "Explanation: The maximum integer in M is 2, and there are four of it in M. So return 4.\n",
    "Example 2:\n",
    "\n",
    "Input: m = 3, n = 3, ops = [[2,2],[3,3],[3,3],[3,3],[2,2],[3,3],[3,3],[3,3],[2,2],[3,3],[3,3],[3,3]]\n",
    "Output: 4\n",
    "Example 3:\n",
    "\n",
    "Input: m = 3, n = 3, ops = []\n",
    "Output: 9"
   ]
  },
  {
   "cell_type": "code",
   "execution_count": 1,
   "metadata": {},
   "outputs": [
    {
     "name": "stdout",
     "output_type": "stream",
     "text": [
      "4\n"
     ]
    }
   ],
   "source": [
    "class Solution:\n",
    "    def maxCount(self, m: int, n: int, ops: list[list[int]]) -> int:\n",
    "        if ops == []: \n",
    "            return m * n\n",
    "        horizontal = [i[0] for i in ops]\n",
    "        vertical = [i[1] for i in ops]\n",
    "        return min(horizontal) * min(vertical)\n",
    "\n",
    "print(Solution.maxCount(Solution(), m = 3, n = 3, ops = [[2,2],[3,3]])) "
   ]
  },
  {
   "cell_type": "code",
   "execution_count": null,
   "metadata": {},
   "outputs": [],
   "source": []
  }
 ],
 "metadata": {
  "kernelspec": {
   "display_name": "base",
   "language": "python",
   "name": "python3"
  },
  "language_info": {
   "codemirror_mode": {
    "name": "ipython",
    "version": 3
   },
   "file_extension": ".py",
   "mimetype": "text/x-python",
   "name": "python",
   "nbconvert_exporter": "python",
   "pygments_lexer": "ipython3",
   "version": "3.11.4"
  },
  "orig_nbformat": 4
 },
 "nbformat": 4,
 "nbformat_minor": 2
}
