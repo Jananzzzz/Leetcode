{
 "cells": [
  {
   "cell_type": "markdown",
   "metadata": {},
   "source": [
    "https://leetcode.com/problems/island-perimeter/description/\n",
    "\n",
    "You are given row x col grid representing a map where grid[i][j] = 1 represents land and grid[i][j] = 0 represents water.\n",
    "\n",
    "Grid cells are connected horizontally/vertically (not diagonally). The grid is completely surrounded by water, and there is exactly one island (i.e., one or more connected land cells).\n",
    "\n",
    "The island doesn't have \"lakes\", meaning the water inside isn't connected to the water around the island. One cell is a square with side length 1. The grid is rectangular, width and height don't exceed 100. Determine the perimeter of the island.\n",
    "\n",
    "<img src=\"../assets/island.png\" width=20%>\n",
    "\n",
    "Input: grid = [[0,1,0,0],[1,1,1,0],[0,1,0,0],[1,1,0,0]]\n",
    "Output: 16\n",
    "Explanation: The perimeter is the 16 yellow stripes in the image above.\n"
   ]
  },
  {
   "cell_type": "code",
   "execution_count": null,
   "metadata": {},
   "outputs": [],
   "source": [
    "class Solution:\n",
    "    def islandPerimeter(self, grid: list[list[int]]) -> int:\n",
    "        res = 0\n",
    "        for i in range(len(grid)):\n",
    "            for j in range(len(grid[0])):\n",
    "                if grid[i][j]:\n",
    "                    temp = 4\n",
    "                    try: \n",
    "                        if (grid[i-1][j] == 1) and ((i - 1) >= 0):\n",
    "                            temp -= 1\n",
    "                    except:\n",
    "                        pass\n",
    "                    try: \n",
    "                        if (grid[i+1][j] == 1):\n",
    "                            temp -= 1\n",
    "                    except:\n",
    "                        pass\n",
    "                    try: \n",
    "                        if (grid[i][j-1] == 1) and ((j - 1) >= 0):\n",
    "                            temp -= 1\n",
    "                    except:\n",
    "                        pass\n",
    "                    try: \n",
    "                        if grid[i][j+1] == 1: \n",
    "                            temp -= 1\n",
    "                    except:\n",
    "                        pass\n",
    "                    res += temp\n",
    "        return res"
   ]
  }
 ],
 "metadata": {
  "language_info": {
   "name": "python"
  },
  "orig_nbformat": 4
 },
 "nbformat": 4,
 "nbformat_minor": 2
}
