{
 "cells": [
  {
   "cell_type": "markdown",
   "metadata": {},
   "source": [
    "You have n coins and you want to build a staircase with these coins. The staircase consists of k rows where the ith row has exactly i coins. The last row of the staircase may be incomplete.\n",
    "\n",
    "Given the integer n, return the number of complete rows of the staircase you will build.\n",
    "\n",
    "Example 1:\n",
    "\n",
    "<img src=\"../assets/arrangecoins1-grid.jpg\" width=20%>\n",
    "\n",
    "Input: n = 5\n",
    "Output: 2\n",
    "Explanation: Because the 3rd row is incomplete, we return 2."
   ]
  },
  {
   "cell_type": "code",
   "execution_count": null,
   "metadata": {},
   "outputs": [],
   "source": [
    "# solve the inequation\n",
    "import math\n",
    "class Solution:\n",
    "    def arrangeCoins(self, n: int) -> int:\n",
    "        return int((-1+math.sqrt(1+8*n))/2) \n",
    "\n",
    "# brute force with long runtime   \n",
    "class Solution:\n",
    "    def arrangeCoins(self, n: int) -> int:\n",
    "        res = 0\n",
    "        while(res <= n):\n",
    "            temp = res * (res + 1) // 2\n",
    "            if temp == n:\n",
    "                return res\n",
    "            elif temp < n:\n",
    "                res += 1\n",
    "            else:\n",
    "                return res - 1\n",
    "\n",
    "# binary search\n",
    "class Solution:\n",
    "    def arrangeCoins(self, n: int) -> int:\n",
    "        down = 0\n",
    "        up = n\n",
    "        while(down <= up):\n",
    "            mid = (down + up) // 2\n",
    "            temp = mid * (mid + 1) / 2\n",
    "            if temp == n:\n",
    "                return mid\n",
    "            elif temp < n:\n",
    "                down = mid + 1\n",
    "            else:\n",
    "                up = mid - 1\n",
    "        if down >= up:\n",
    "            return down - 1\n",
    "        return mid"
   ]
  }
 ],
 "metadata": {
  "language_info": {
   "name": "python"
  },
  "orig_nbformat": 4
 },
 "nbformat": 4,
 "nbformat_minor": 2
}
