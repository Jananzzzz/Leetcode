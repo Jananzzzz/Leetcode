{
 "cells": [
  {
   "cell_type": "markdown",
   "metadata": {},
   "source": [
    "<img src=\"../assets/spiral_matrix.jpeg\" width=20%>\n",
    "\n",
    "Input: matrix = [[1,2,3],[4,5,6],[7,8,9]]\n",
    "\n",
    "Output: [1,2,3,6,9,8,7,4,5]"
   ]
  },
  {
   "cell_type": "code",
   "execution_count": 35,
   "metadata": {},
   "outputs": [],
   "source": [
    "class Solution:\n",
    "    def spiralOrder(self, matrix: list[list[int]]) -> list[int]:\n",
    "        output = []\n",
    "        while(len(matrix) > 0):\n",
    "            if len(matrix) == 1:\n",
    "                output.extend(matrix[0])\n",
    "                break\n",
    "            elif len(matrix[0]) == 1:\n",
    "                output.extend([i[0] for i in matrix])\n",
    "                break\n",
    "            elif len(matrix[0]) == 0:\n",
    "                break\n",
    "            output.extend(matrix[0])\n",
    "            for i in range(1,len(matrix)-1):\n",
    "                output.append(matrix[i][-1])\n",
    "            output.extend(matrix[-1][::-1])\n",
    "            temp = []\n",
    "            for i in range(1,len(matrix)-1):\n",
    "                temp.append(matrix[i][0])\n",
    "            output.extend(temp[::-1])\n",
    "            matrix = matrix[1:-1]\n",
    "            matrix = [row[1:-1] for row in matrix]\n",
    "        return output"
   ]
  },
  {
   "cell_type": "code",
   "execution_count": 36,
   "metadata": {},
   "outputs": [
    {
     "name": "stdout",
     "output_type": "stream",
     "text": [
      "[1, 11, 12, 13, 14, 15, 16, 17, 18, 19, 20, 10, 9, 8, 7, 6, 5, 4, 3, 2]\n",
      "[3, 2]\n"
     ]
    }
   ],
   "source": [
    "# print(Solution.spiralOrder(Solution(), [[1,2,3],[4,5,6],[7,8,9]]))\n",
    "# print(Solution.spiralOrder(Solution(), [[1],[2],[3]]))\n",
    "print(Solution.spiralOrder(Solution(), [[1,11],[2,12],[3,13],[4,14],[5,15],[6,16],[7,17],[8,18],[9,19],[10,20]]))\n",
    "print(Solution.spiralOrder(Solution(), [[3], [2]]))"
   ]
  }
 ],
 "metadata": {
  "kernelspec": {
   "display_name": "base",
   "language": "python",
   "name": "python3"
  },
  "language_info": {
   "codemirror_mode": {
    "name": "ipython",
    "version": 3
   },
   "file_extension": ".py",
   "mimetype": "text/x-python",
   "name": "python",
   "nbconvert_exporter": "python",
   "pygments_lexer": "ipython3",
   "version": "3.11.4"
  },
  "orig_nbformat": 4
 },
 "nbformat": 4,
 "nbformat_minor": 2
}
